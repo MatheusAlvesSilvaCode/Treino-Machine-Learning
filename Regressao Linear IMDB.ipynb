{
 "cells": [
  {
   "cell_type": "code",
   "execution_count": 1,
   "id": "0d8c2777",
   "metadata": {},
   "outputs": [],
   "source": [
    "import sqlite3\n",
    "import pandas as pd \n",
    "from sklearn.tree import DecisionTreeRegressor\n",
    "from sklearn.linear_model import LinearRegression\n",
    "from sklearn.model_selection import train_test_split\n",
    "from sklearn.metrics import mean_squared_error\n",
    "from math import sqrt\n",
    "\n",
    "data = pd.read_csv(r\"C:\\Users\\mathe\\Downloads\\IMDB\\imdb_top_5000_tv_shows.csv\")\n",
    "\n",
    "df = data"
   ]
  },
  {
   "cell_type": "code",
   "execution_count": 2,
   "id": "6cf24312",
   "metadata": {},
   "outputs": [
    {
     "data": {
      "text/plain": [
       "Index(['tconst', 'primaryTitle', 'startYear', 'endYear', 'rank',\n",
       "       'averageRating', 'numVotes', 'directors', 'writers', 'genres',\n",
       "       'IMDbLink', 'Title_IMDb_Link'],\n",
       "      dtype='object')"
      ]
     },
     "execution_count": 2,
     "metadata": {},
     "output_type": "execute_result"
    }
   ],
   "source": [
    "df.columns"
   ]
  },
  {
   "cell_type": "code",
   "execution_count": 3,
   "id": "4927ac53",
   "metadata": {},
   "outputs": [
    {
     "data": {
      "text/plain": [
       "(5000, 12)"
      ]
     },
     "execution_count": 3,
     "metadata": {},
     "output_type": "execute_result"
    }
   ],
   "source": [
    "df.shape"
   ]
  },
  {
   "cell_type": "code",
   "execution_count": 5,
   "id": "a3a68174",
   "metadata": {},
   "outputs": [
    {
     "data": {
      "text/html": [
       "<div>\n",
       "<style scoped>\n",
       "    .dataframe tbody tr th:only-of-type {\n",
       "        vertical-align: middle;\n",
       "    }\n",
       "\n",
       "    .dataframe tbody tr th {\n",
       "        vertical-align: top;\n",
       "    }\n",
       "\n",
       "    .dataframe thead th {\n",
       "        text-align: right;\n",
       "    }\n",
       "</style>\n",
       "<table border=\"1\" class=\"dataframe\">\n",
       "  <thead>\n",
       "    <tr style=\"text-align: right;\">\n",
       "      <th></th>\n",
       "      <th>tconst</th>\n",
       "      <th>primaryTitle</th>\n",
       "      <th>startYear</th>\n",
       "      <th>endYear</th>\n",
       "      <th>rank</th>\n",
       "      <th>averageRating</th>\n",
       "      <th>numVotes</th>\n",
       "      <th>directors</th>\n",
       "      <th>writers</th>\n",
       "      <th>genres</th>\n",
       "      <th>IMDbLink</th>\n",
       "      <th>Title_IMDb_Link</th>\n",
       "    </tr>\n",
       "  </thead>\n",
       "  <tbody>\n",
       "    <tr>\n",
       "      <th>0</th>\n",
       "      <td>tt0903747</td>\n",
       "      <td>Breaking Bad</td>\n",
       "      <td>2008</td>\n",
       "      <td>2013.0</td>\n",
       "      <td>1</td>\n",
       "      <td>9.5</td>\n",
       "      <td>2310979</td>\n",
       "      <td>Michelle MacLaren, Adam Bernstein, Vince Gilli...</td>\n",
       "      <td>Vince Gilligan, Peter Gould, George Mastras, S...</td>\n",
       "      <td>Crime, Drama, Thriller</td>\n",
       "      <td>&lt;a href=\"https://www.imdb.com/title/tt0903747\"...</td>\n",
       "      <td>&lt;a href=\"https://www.imdb.com/title/tt0903747\"...</td>\n",
       "    </tr>\n",
       "    <tr>\n",
       "      <th>1</th>\n",
       "      <td>tt0185906</td>\n",
       "      <td>Band of Brothers</td>\n",
       "      <td>2001</td>\n",
       "      <td>2001.0</td>\n",
       "      <td>2</td>\n",
       "      <td>9.4</td>\n",
       "      <td>558905</td>\n",
       "      <td>David Frankel, Mikael Salomon, Tom Hanks, Davi...</td>\n",
       "      <td>Stephen Ambrose, Erik Bork, E. Max Frye, Tom H...</td>\n",
       "      <td>Action, Drama, History</td>\n",
       "      <td>&lt;a href=\"https://www.imdb.com/title/tt0185906\"...</td>\n",
       "      <td>&lt;a href=\"https://www.imdb.com/title/tt0185906\"...</td>\n",
       "    </tr>\n",
       "    <tr>\n",
       "      <th>2</th>\n",
       "      <td>tt7366338</td>\n",
       "      <td>Chernobyl</td>\n",
       "      <td>2019</td>\n",
       "      <td>2019.0</td>\n",
       "      <td>3</td>\n",
       "      <td>9.3</td>\n",
       "      <td>941709</td>\n",
       "      <td>Johan Renck</td>\n",
       "      <td>Craig Mazin</td>\n",
       "      <td>Drama, History, Thriller</td>\n",
       "      <td>&lt;a href=\"https://www.imdb.com/title/tt7366338\"...</td>\n",
       "      <td>&lt;a href=\"https://www.imdb.com/title/tt7366338\"...</td>\n",
       "    </tr>\n",
       "  </tbody>\n",
       "</table>\n",
       "</div>"
      ],
      "text/plain": [
       "      tconst      primaryTitle  startYear  endYear  rank  averageRating  \\\n",
       "0  tt0903747      Breaking Bad       2008   2013.0     1            9.5   \n",
       "1  tt0185906  Band of Brothers       2001   2001.0     2            9.4   \n",
       "2  tt7366338         Chernobyl       2019   2019.0     3            9.3   \n",
       "\n",
       "   numVotes                                          directors  \\\n",
       "0   2310979  Michelle MacLaren, Adam Bernstein, Vince Gilli...   \n",
       "1    558905  David Frankel, Mikael Salomon, Tom Hanks, Davi...   \n",
       "2    941709                                        Johan Renck   \n",
       "\n",
       "                                             writers  \\\n",
       "0  Vince Gilligan, Peter Gould, George Mastras, S...   \n",
       "1  Stephen Ambrose, Erik Bork, E. Max Frye, Tom H...   \n",
       "2                                        Craig Mazin   \n",
       "\n",
       "                     genres  \\\n",
       "0    Crime, Drama, Thriller   \n",
       "1    Action, Drama, History   \n",
       "2  Drama, History, Thriller   \n",
       "\n",
       "                                            IMDbLink  \\\n",
       "0  <a href=\"https://www.imdb.com/title/tt0903747\"...   \n",
       "1  <a href=\"https://www.imdb.com/title/tt0185906\"...   \n",
       "2  <a href=\"https://www.imdb.com/title/tt7366338\"...   \n",
       "\n",
       "                                     Title_IMDb_Link  \n",
       "0  <a href=\"https://www.imdb.com/title/tt0903747\"...  \n",
       "1  <a href=\"https://www.imdb.com/title/tt0185906\"...  \n",
       "2  <a href=\"https://www.imdb.com/title/tt7366338\"...  "
      ]
     },
     "execution_count": 5,
     "metadata": {},
     "output_type": "execute_result"
    }
   ],
   "source": [
    "df.head(3)"
   ]
  },
  {
   "cell_type": "code",
   "execution_count": null,
   "id": "8c4ac4a6",
   "metadata": {},
   "outputs": [],
   "source": []
  }
 ],
 "metadata": {
  "kernelspec": {
   "display_name": "base",
   "language": "python",
   "name": "python3"
  },
  "language_info": {
   "codemirror_mode": {
    "name": "ipython",
    "version": 3
   },
   "file_extension": ".py",
   "mimetype": "text/x-python",
   "name": "python",
   "nbconvert_exporter": "python",
   "pygments_lexer": "ipython3",
   "version": "3.12.7"
  }
 },
 "nbformat": 4,
 "nbformat_minor": 5
}
